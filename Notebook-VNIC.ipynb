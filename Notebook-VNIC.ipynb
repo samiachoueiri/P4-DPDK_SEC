{
 "cells": [
  {
   "cell_type": "markdown",
   "id": "2b571c06-bfd5-464a-acf4-d28845c8e840",
   "metadata": {
    "tags": []
   },
   "source": [
    "# Slice setup"
   ]
  },
  {
   "cell_type": "code",
   "execution_count": 1,
   "id": "2e9c3ea6-f0b5-4e34-9a4c-82785ff386c4",
   "metadata": {},
   "outputs": [],
   "source": [
    "from fabrictestbed_extensions.fablib.fablib import FablibManager as fablib_manager\n",
    "fablib = fablib_manager()"
   ]
  },
  {
   "cell_type": "markdown",
   "id": "161198e4-00b0-4994-9de8-28e8bfb16cc8",
   "metadata": {
    "tags": []
   },
   "source": [
    "## Slice"
   ]
  },
  {
   "cell_type": "code",
   "execution_count": 2,
   "id": "9c97d810-ac6a-4c04-892d-f0ddbe69954b",
   "metadata": {
    "tags": []
   },
   "outputs": [],
   "source": [
    "# slice = fablib.new_slice(name=\"P4DPDK_slice\")"
   ]
  },
  {
   "cell_type": "code",
   "execution_count": 3,
   "id": "be136fbc-173b-44d5-81d7-def5820d8a34",
   "metadata": {},
   "outputs": [],
   "source": [
    "from fabrictestbed_extensions.fablib.fablib import FablibManager as fablib_manager\n",
    "fablib = fablib_manager()\n",
    "slice = fablib.get_slice(name=\"P4DPDK_lab4_vnic\")\n",
    "# slice.delete()"
   ]
  },
  {
   "cell_type": "code",
   "execution_count": 4,
   "id": "61333554-ef05-480e-bee6-c2a035213b0c",
   "metadata": {},
   "outputs": [],
   "source": [
    "servers = []\n",
    "\n",
    "servers.append(slice.get_node(name=\"server1\"))     \n",
    "# servers.append(slice.get_node(name=\"server2\"))\n",
    "# servers.append(slice.get_node(name=\"server3\"))\n",
    "\n",
    "server1 = servers[0]\n",
    "# server2 = servers[1]\n",
    "# server3 = servers[2]"
   ]
  },
  {
   "cell_type": "markdown",
   "id": "94197771-e620-48f3-80f2-9cab71f48542",
   "metadata": {
    "tags": []
   },
   "source": [
    "## Reboot"
   ]
  },
  {
   "cell_type": "code",
   "execution_count": 16,
   "id": "3b4307ef-2dbe-465b-969c-2a82a82fa4b7",
   "metadata": {},
   "outputs": [],
   "source": [
    "for server in servers:\n",
    "    server.os_reboot()"
   ]
  },
  {
   "cell_type": "markdown",
   "id": "89dca51d-dd1a-48d3-b285-68727e56992c",
   "metadata": {
    "jp-MarkdownHeadingCollapsed": true,
    "tags": []
   },
   "source": [
    "## Get interfaces names\n",
    "In this step we will get the interface names so that we can assign IP addresses to them. Map the printed interface names to those seen in this figure:\n",
    "\n",
    "<img src=\"./labs_files/SYN/figs/07_getting_interfaces.png\" width=\"550\"><br>"
   ]
  },
  {
   "cell_type": "code",
   "execution_count": 6,
   "id": "3d3b0d19-c55b-43e5-98b1-cea0fccec6b7",
   "metadata": {},
   "outputs": [
    {
     "name": "stdout",
     "output_type": "stream",
     "text": [
      "server1_iface: enp7s0np0\n",
      "server2_iface1: enp7s0np0\n",
      "server2_iface2: enp8s0np1\n",
      "server3_iface: enp7s0np0\n"
     ]
    }
   ],
   "source": [
    "node1_iface = server1.get_interface(network_name='net1') \n",
    "server1_iface_name = node1_iface.get_device_name()+'np0'\n",
    "print(f'server1_iface: {server1_iface_name}')\n",
    "\n",
    "node2_iface1 = server2.get_interface(network_name='net1') \n",
    "server2_iface1_name = node2_iface1.get_device_name()+'np0'\n",
    "print(f'server2_iface1: {server2_iface1_name}')\n",
    "\n",
    "node2_iface2 = server2.get_interface(network_name='net2') \n",
    "server2_iface2_name = node2_iface2.get_device_name()+'np1'\n",
    "print(f'server2_iface2: {server2_iface2_name}')\n",
    "\n",
    "node3_iface = server3.get_interface(network_name='net2') \n",
    "server3_iface_name = node3_iface.get_device_name()+'np0'\n",
    "print(f'server3_iface: {server3_iface_name}')"
   ]
  },
  {
   "cell_type": "code",
   "execution_count": 18,
   "id": "c1b5b81d-0748-4469-9199-1b1ac166ae37",
   "metadata": {},
   "outputs": [],
   "source": [
    "stdout, stderr = server1.execute(f'sudo ip link set dev {server1_iface_name} up', quiet=True)\n",
    "stdout, stderr = server2.execute(f'sudo ip link set dev {server2_iface1_name} up', quiet=True)\n",
    "stdout, stderr = server2.execute(f'sudo ip link set dev {server2_iface2_name} up', quiet=True)\n",
    "stdout, stderr = server3.execute(f'sudo ip link set dev {server3_iface_name} up', quiet=True)"
   ]
  },
  {
   "cell_type": "code",
   "execution_count": 19,
   "id": "96f41fe4-6da1-4551-8de8-84125232595e",
   "metadata": {},
   "outputs": [],
   "source": [
    "server1_iface_MAC = '00:00:00:00:00:01'\n",
    "server2_iface1_MAC = '00:00:00:00:00:21'\n",
    "server2_iface2_MAC = '00:00:00:00:00:22'\n",
    "server3_iface_MAC = '00:00:00:00:00:03'"
   ]
  },
  {
   "cell_type": "code",
   "execution_count": 20,
   "id": "7340e2cc-f657-41ae-8b78-62c21afed741",
   "metadata": {},
   "outputs": [
    {
     "name": "stdout",
     "output_type": "stream",
     "text": [
      "\u001b[31m sudo: unable to resolve host server1: Name or service not known\n",
      " \u001b[0m\u001b[31m sudo: unable to resolve host server2: Name or service not known\n",
      " \u001b[0m\u001b[31m sudo: unable to resolve host server1: Name or service not known\n",
      " \u001b[0m\u001b[31m sudo: unable to resolve host server2: Name or service not known\n",
      " \u001b[0m"
     ]
    }
   ],
   "source": [
    "server1_server2_subnet = \"192.168.10.0/24\"\n",
    "server1_ip = '192.168.10.1/24'\n",
    "server2_1_ip = '192.168.10.2/24'\n",
    "\n",
    "stdout, stderr = server1.execute(f'sudo ifconfig {server1_iface_name} {server1_ip}')\n",
    "stdout, stderr = server2.execute(f'sudo ifconfig {server2_iface1_name} {server2_1_ip}')\n",
    "\n",
    "stdout, stderr = server1.execute(f'sudo ifconfig {server1_iface_name} hw ether {server1_iface_MAC}')\n",
    "stdout, stderr = server2.execute(f'sudo ifconfig {server2_iface1_name} hw ether {server2_iface1_MAC}')"
   ]
  },
  {
   "cell_type": "code",
   "execution_count": 21,
   "id": "af004767-ca84-41ca-9abf-b84e9385c81f",
   "metadata": {},
   "outputs": [
    {
     "name": "stdout",
     "output_type": "stream",
     "text": [
      "\u001b[31m sudo: unable to resolve host server2: Name or service not known\n",
      " \u001b[0m\u001b[31m sudo: unable to resolve host server2: Name or service not known\n",
      " \u001b[0m"
     ]
    }
   ],
   "source": [
    "server2_server3_subnet = \"192.168.20.0/24\"\n",
    "server2_2_ip = '192.168.20.2/24'\n",
    "server3_ip = '192.168.20.1/24'\n",
    "\n",
    "stdout, stderr = server2.execute(f'sudo ifconfig {server2_iface2_name} {server2_2_ip}')\n",
    "stdout, stderr = server3.execute(f'sudo ifconfig {server3_iface_name} {server3_ip}')\n",
    "\n",
    "stdout, stderr = server2.execute(f'sudo ifconfig {server2_iface2_name} hw ether {server2_iface2_MAC}')\n",
    "stdout, stderr = server3.execute(f'sudo ifconfig {server3_iface_name} hw ether {server3_iface_MAC}')"
   ]
  },
  {
   "cell_type": "code",
   "execution_count": 22,
   "id": "ac08f975-729c-4c80-aa58-9dcf8e5ef440",
   "metadata": {},
   "outputs": [],
   "source": [
    "stdout, stderr = server2.execute(f'sudo sysctl -w net.ipv4.ip_forward=1', quiet=True)"
   ]
  },
  {
   "cell_type": "code",
   "execution_count": 23,
   "id": "bd8a0c6f-7fc5-4711-9636-4d6cb4f1baba",
   "metadata": {},
   "outputs": [
    {
     "name": "stdout",
     "output_type": "stream",
     "text": [
      "\u001b[31m sudo: unable to resolve host server1: Name or service not known\n",
      " \u001b[0m\u001b[31m sudo: unable to resolve host server1: Name or service not known\n",
      " \u001b[0m\u001b[31m sudo: unable to resolve host server2: Name or service not known\n",
      " \u001b[0m\u001b[31m sudo: unable to resolve host server2: Name or service not known\n",
      " \u001b[0m"
     ]
    }
   ],
   "source": [
    "ip1 = server1_ip.split('/')[0]\n",
    "ip2_1 = server2_1_ip.split('/')[0]\n",
    "ip2_2 = server2_2_ip.split('/')[0]\n",
    "ip3 = server3_ip.split('/')[0]\n",
    "subnet1 = \"192.168.10.0/24\"\n",
    "subnet2 = \"192.168.20.0/24\"\n",
    "\n",
    "stdout, stderr = server1.execute(f'sudo arp -s {ip2_1} {server2_iface1_MAC}')\n",
    "stdout, stderr = server1.execute(f'sudo ip route add {subnet2} via {ip2_1}')\n",
    "\n",
    "stdout, stderr = server2.execute(f'sudo arp -s {ip1} {server1_iface_MAC}')\n",
    "stdout, stderr = server2.execute(f'sudo arp -s {ip3} {server3_iface_MAC}')\n",
    "\n",
    "stdout, stderr = server3.execute(f'sudo arp -s {ip2_2} {server2_iface2_MAC}')\n",
    "stdout, stderr = server3.execute(f'sudo ip route add {subnet1} via {ip2_2}')"
   ]
  },
  {
   "cell_type": "code",
   "execution_count": 7,
   "id": "95959918-3aa1-4fb9-9fc1-6b2cddd12130",
   "metadata": {},
   "outputs": [
    {
     "name": "stdout",
     "output_type": "stream",
     "text": [
      "mlx5_0 port 1 ==> enp7s0np0 (Up)\n",
      "mlx5_1 port 1 ==> enp8s0np1 (Down)\n",
      "\u001b[31m sudo: unable to resolve host server1: Name or service not known\n",
      " \u001b[0mmlx5_0 port 1 ==> enp7s0np0 (Up)\n",
      "mlx5_1 port 1 ==> enp8s0np1 (Up)\n",
      "\u001b[31m sudo: unable to resolve host server2: Name or service not known\n",
      " \u001b[0mmlx5_0 port 1 ==> enp7s0np0 (Up)\n",
      "mlx5_1 port 1 ==> enp8s0np1 (Down)\n",
      "\u001b[31m sudo: unable to resolve host server3: Name or service not known\n",
      " \u001b[0m"
     ]
    }
   ],
   "source": [
    "stdout, stderr = server1.execute(f'sudo ibdev2netdev')\n",
    "stdout, stderr = server1.execute(f'sudo mst status', quiet=True)\n",
    "stdout, stderr = server1.execute(f'sudo mst start', quiet=True)\n",
    "stdout, stderr = server1.execute(f'sudo mst status', quiet=True)\n",
    "\n",
    "stdout, stderr = server2.execute(f'sudo ibdev2netdev')\n",
    "stdout, stderr = server2.execute(f'sudo mst status', quiet=True)\n",
    "stdout, stderr = server2.execute(f'sudo mst start', quiet=True)\n",
    "stdout, stderr = server2.execute(f'sudo mst status', quiet=True)\n",
    "\n",
    "stdout, stderr = server3.execute(f'sudo ibdev2netdev')\n",
    "stdout, stderr = server3.execute(f'sudo mst status', quiet=True)\n",
    "stdout, stderr = server3.execute(f'sudo mst start', quiet=True)\n",
    "stdout, stderr = server3.execute(f'sudo mst status', quiet=True)"
   ]
  },
  {
   "cell_type": "markdown",
   "id": "61c0763e-784c-4d1e-ad19-d77ecc5b864d",
   "metadata": {},
   "source": [
    "# Get SSH"
   ]
  },
  {
   "cell_type": "code",
   "execution_count": 5,
   "id": "6d7e72f2-2111-486a-b079-6f5ee0e328a0",
   "metadata": {},
   "outputs": [
    {
     "data": {
      "text/plain": [
       "'ssh -i /home/fabric/work/fabric_config/slice_key -F /home/fabric/work/fabric_config/ssh_config ubuntu@2001:400:a100:3040:f816:3eff:fec7:715'"
      ]
     },
     "execution_count": 5,
     "metadata": {},
     "output_type": "execute_result"
    }
   ],
   "source": [
    "server1.get_ssh_command()"
   ]
  },
  {
   "cell_type": "markdown",
   "id": "1b7cab7e-14e4-402d-91e1-73bedbd386d9",
   "metadata": {},
   "source": [
    "# Upload and Compile"
   ]
  },
  {
   "cell_type": "code",
   "execution_count": 28,
   "id": "5ab66bf2-349a-4f26-9a61-b1fefb7a9228",
   "metadata": {},
   "outputs": [],
   "source": [
    "threads = []\n",
    "\n",
    "for server in servers:\n",
    "    threads.append(server.execute_thread(f' sudo sh -c  \"echo 1024 > /sys/kernel/mm/hugepages/hugepages-2048kB/nr_hugepages\"'))\n",
    "\n",
    "for thread in threads:\n",
    "    thread.result()"
   ]
  },
  {
   "cell_type": "markdown",
   "id": "6cafe4cf-f63c-4c12-a4a3-35a7cc454f08",
   "metadata": {
    "jp-MarkdownHeadingCollapsed": true
   },
   "source": [
    "## Reflector"
   ]
  },
  {
   "cell_type": "code",
   "execution_count": 15,
   "id": "1b551543-8fb0-477a-a038-e935f2e94804",
   "metadata": {},
   "outputs": [
    {
     "name": "stdout",
     "output_type": "stream",
     "text": [
      "\u001b[31m sudo: unable to resolve host server2: Name or service not known\n",
      " \u001b[0m"
     ]
    }
   ],
   "source": [
    "server2.upload_file('experiments/reflector/reflector.p4','reflector.p4')\n",
    "stdout, stderr = server2.execute(f'sudo p4c-dpdk --arch=pna reflector.p4 -o reflector.spec')"
   ]
  },
  {
   "cell_type": "code",
   "execution_count": 16,
   "id": "669fc8a7-d84d-4bf1-b22a-fc6ba823f7d7",
   "metadata": {},
   "outputs": [
    {
     "data": {
      "text/plain": [
       "<SFTPAttributes: [ size=556 uid=1000 gid=1000 mode=0o100664 atime=1729096560 mtime=1729096560 ]>"
      ]
     },
     "execution_count": 16,
     "metadata": {},
     "output_type": "execute_result"
    }
   ],
   "source": [
    "server2.upload_file('experiments/reflector/ethdev0.io','ethdev0.io')\n",
    "server2.upload_file('experiments/reflector/reflector.cli','reflector.cli')"
   ]
  },
  {
   "cell_type": "markdown",
   "id": "65c3de87-26c3-47b2-9fe3-5c1429da4094",
   "metadata": {},
   "source": [
    "    cd dpdk\n",
    "    sudo examples/pipeline/build/pipeline -c 0x1F -- -s /home/ubuntu/reflector.cli"
   ]
  },
  {
   "cell_type": "code",
   "execution_count": 17,
   "id": "119e8310-c962-4440-863f-15b150a0e0df",
   "metadata": {},
   "outputs": [
    {
     "data": {
      "text/plain": [
       "'ssh -i /home/fabric/work/fabric_config/slice_key -F /home/fabric/work/fabric_config/ssh_config ubuntu@2001:18e8:fff0:3:f816:3eff:fe79:77b8'"
      ]
     },
     "execution_count": 17,
     "metadata": {},
     "output_type": "execute_result"
    }
   ],
   "source": [
    "server1.get_ssh_command()"
   ]
  },
  {
   "cell_type": "code",
   "execution_count": 57,
   "id": "e2452b58-8b01-405b-861f-118ba384dea1",
   "metadata": {},
   "outputs": [
    {
     "name": "stdout",
     "output_type": "stream",
     "text": [
      "07:00.0\n"
     ]
    }
   ],
   "source": [
    "stdout, stderr = server1.execute('lspci | grep ConnectX | awk \\'{print $1}\\'| head -n 1')"
   ]
  },
  {
   "cell_type": "markdown",
   "id": "3754e213-e91b-40f0-bd4b-8f86bbfa82ac",
   "metadata": {},
   "source": [
    "    sudo pktgen -l 0,1 -n 4 -a 07:00.0 -- -P -m \"1.0\"\n",
    "\n",
    "    set 0 src mac 00:00:00:00:00:01\n",
    "    set 0 dst mac 00:00:00:00:00:21\n",
    "    set 0 src ip 192.168.10.1/24\n",
    "    set 0 dst ip 192.168.10.2\n",
    "    set 0 size 1500"
   ]
  },
  {
   "cell_type": "code",
   "execution_count": 18,
   "id": "ddda69e4-aa23-499f-9b67-8d3cf2a43899",
   "metadata": {},
   "outputs": [
    {
     "data": {
      "text/plain": [
       "'ssh -i /home/fabric/work/fabric_config/slice_key -F /home/fabric/work/fabric_config/ssh_config ubuntu@2001:400:a100:3030:f816:3eff:fe8d:7886'"
      ]
     },
     "execution_count": 18,
     "metadata": {},
     "output_type": "execute_result"
    }
   ],
   "source": [
    "server3.get_ssh_command()"
   ]
  },
  {
   "cell_type": "code",
   "execution_count": 31,
   "id": "a821b257-378c-4d1d-99ae-b2dab5783e90",
   "metadata": {},
   "outputs": [
    {
     "name": "stdout",
     "output_type": "stream",
     "text": [
      "07:00.0\n"
     ]
    }
   ],
   "source": [
    "stdout, stderr = server3.execute('lspci | grep ConnectX | awk \\'{print $1}\\'| head -n 1')"
   ]
  },
  {
   "cell_type": "markdown",
   "id": "6deb79a6-41b9-49e1-9bff-11636b99bbc3",
   "metadata": {},
   "source": [
    "    sudo pktgen -l 0,1 -n 4 -a 07:00.0 -- -P -m \"1.0\"\n",
    "\n",
    "    set 0 src mac 00:00:00:00:00:03\n",
    "    set 0 dst mac 00:00:00:00:00:22\n",
    "    set 0 src ip 192.168.20.1/24\n",
    "    set 0 dst ip 192.168.20.2\n",
    "    set 0 size 1500"
   ]
  },
  {
   "cell_type": "markdown",
   "id": "529d5b75-bc94-4e41-96ee-c999575c6c80",
   "metadata": {
    "jp-MarkdownHeadingCollapsed": true
   },
   "source": [
    "## Heavy Hitter"
   ]
  },
  {
   "cell_type": "code",
   "execution_count": 29,
   "id": "827478b2-6f5f-4522-8677-4024dcb50091",
   "metadata": {},
   "outputs": [
    {
     "name": "stdout",
     "output_type": "stream",
     "text": [
      "\u001b[31m sudo: unable to resolve host server2: Name or service not known\n",
      " \u001b[0m"
     ]
    }
   ],
   "source": [
    "server2.upload_file('experiments/hh/hh.p4','hh.p4')\n",
    "stdout, stderr = server2.execute(f'sudo p4c-dpdk --arch=pna hh.p4 -o hh.spec')"
   ]
  },
  {
   "cell_type": "code",
   "execution_count": 8,
   "id": "a5b139ce-861e-44a8-bf0a-6a350a018d97",
   "metadata": {},
   "outputs": [
    {
     "data": {
      "text/plain": [
       "<SFTPAttributes: [ size=907 uid=1000 gid=1000 mode=0o100664 atime=1729192859 mtime=1729192860 ]>"
      ]
     },
     "execution_count": 8,
     "metadata": {},
     "output_type": "execute_result"
    }
   ],
   "source": [
    "server2.upload_file('experiments/hh/ethdev0.io','ethdev0.io')\n",
    "server2.upload_file('experiments/hh/ethdev1.io','ethdev1.io')\n",
    "server2.upload_file('experiments/hh/ethdev2.io','ethdev2.io')\n",
    "server2.upload_file('experiments/hh/ethdev3.io','ethdev3.io')\n",
    "server2.upload_file('experiments/hh/hh.cli','hh.cli')"
   ]
  },
  {
   "cell_type": "markdown",
   "id": "804c0791-c6e6-4564-a283-1e6c0afe56fc",
   "metadata": {},
   "source": [
    "    cd dpdk\n",
    "    sudo examples/pipeline/build/pipeline -c 0x1F -- -s /home/ubuntu/hh.cli"
   ]
  },
  {
   "cell_type": "code",
   "execution_count": 9,
   "id": "bd758a0b-558c-4114-b5a5-826a6057e856",
   "metadata": {},
   "outputs": [
    {
     "data": {
      "text/plain": [
       "'ssh -i /home/fabric/work/fabric_config/slice_key -F /home/fabric/work/fabric_config/ssh_config ubuntu@2001:400:a100:3080:f816:3eff:fe4f:3067'"
      ]
     },
     "execution_count": 9,
     "metadata": {},
     "output_type": "execute_result"
    }
   ],
   "source": [
    "server1.get_ssh_command()"
   ]
  },
  {
   "cell_type": "code",
   "execution_count": 10,
   "id": "f334239a-1111-4c74-ab68-1d484b8d0189",
   "metadata": {},
   "outputs": [
    {
     "name": "stdout",
     "output_type": "stream",
     "text": [
      "07:00.0\n"
     ]
    }
   ],
   "source": [
    "stdout, stderr = server1.execute('lspci | grep ConnectX | awk \\'{print $1}\\'| head -n 1')"
   ]
  },
  {
   "cell_type": "markdown",
   "id": "a64207d1-14b8-4237-bc64-7f64d60dba05",
   "metadata": {},
   "source": [
    "    sudo pktgen -l 0,1 -n 4 -a 07:00.0 -- -P -m \"1.0\"\n",
    "\n",
    "    page range\n",
    "\n",
    "    range 0 src mac start 00:00:00:00:00:01\n",
    "    range 0 src mac min 00:00:00:00:00:01\n",
    "    range 0 src mac max 00:00:00:00:00:01\n",
    "    \n",
    "    range 0 dst mac start 00:00:00:00:00:21\n",
    "    range 0 dst mac min 00:00:00:00:00:21\n",
    "    range 0 dst mac max 00:00:00:00:00:21\n",
    "    \n",
    "    range 0 src ip start 1.1.1.1\n",
    "    range 0 src ip min 1.1.1.1\n",
    "    range 0 src ip max 250.250.250.250\n",
    "    range 0 src ip inc 0.0.0.1\n",
    "    \n",
    "    range 0 dst ip start 1.1.1.1\n",
    "    range 0 dst ip min 1.1.1.1\n",
    "    range 0 dst ip max 250.250.250.250\n",
    "    range 0 dst ip inc 0.0.0.1\n",
    "    \n",
    "    range 0 size start 1500\n",
    "    range 0 size min 1500\n",
    "    range 0 size max 1500\n",
    "    range 0 size inc 0\n",
    "    \n",
    "    enable 0 range\n",
    "    page main"
   ]
  },
  {
   "cell_type": "code",
   "execution_count": 11,
   "id": "3470ca08-8284-47f7-8746-3cdb219592ff",
   "metadata": {},
   "outputs": [
    {
     "data": {
      "text/plain": [
       "'ssh -i /home/fabric/work/fabric_config/slice_key -F /home/fabric/work/fabric_config/ssh_config ubuntu@2001:400:a100:3080:f816:3eff:fef9:8841'"
      ]
     },
     "execution_count": 11,
     "metadata": {},
     "output_type": "execute_result"
    }
   ],
   "source": [
    "server3.get_ssh_command()"
   ]
  },
  {
   "cell_type": "code",
   "execution_count": 12,
   "id": "9efaf0ae-bc5a-4f3a-8ab8-3e157eeb9b27",
   "metadata": {},
   "outputs": [
    {
     "name": "stdout",
     "output_type": "stream",
     "text": [
      "07:00.0\n"
     ]
    }
   ],
   "source": [
    "stdout, stderr = server3.execute('lspci | grep ConnectX | awk \\'{print $1}\\'| head -n 1')"
   ]
  },
  {
   "cell_type": "markdown",
   "id": "adecc23f-ca5e-45d8-b998-f08c4909fa60",
   "metadata": {},
   "source": [
    "    sudo pktgen -l 0,1 -n 4 -a 07:00.0 -- -P -m \"1.0\"\n",
    "\n",
    "    set 0 src mac 00:00:00:00:00:03\n",
    "    set 0 dst mac 00:00:00:00:00:22\n",
    "    set 0 src ip 192.168.20.1/24\n",
    "    set 0 dst ip 192.168.20.2\n",
    "    set 0 size 1500\n",
    "    set 0 rate 1"
   ]
  },
  {
   "cell_type": "markdown",
   "id": "61f3239b-85cc-4b9f-bc5b-a14cf6588313",
   "metadata": {
    "jp-MarkdownHeadingCollapsed": true
   },
   "source": [
    "## SYN Flood"
   ]
  },
  {
   "cell_type": "code",
   "execution_count": 13,
   "id": "70d1c74f-5328-4b24-b105-464bf3d2dfaa",
   "metadata": {},
   "outputs": [
    {
     "name": "stdout",
     "output_type": "stream",
     "text": [
      "\u001b[31m sudo: unable to resolve host server2: Name or service not known\n",
      " \u001b[0m"
     ]
    }
   ],
   "source": [
    "server2.upload_file('experiments/syn/syn.p4','syn.p4')\n",
    "stdout, stderr = server2.execute(f'sudo p4c-dpdk --arch=pna syn.p4 -o syn.spec')"
   ]
  },
  {
   "cell_type": "code",
   "execution_count": 14,
   "id": "2f18971b-e021-4fba-a4e7-9d5e8cc7aa6d",
   "metadata": {},
   "outputs": [
    {
     "data": {
      "text/plain": [
       "<SFTPAttributes: [ size=1183 uid=1000 gid=1000 mode=0o100664 atime=1729194058 mtime=1729194058 ]>"
      ]
     },
     "execution_count": 14,
     "metadata": {},
     "output_type": "execute_result"
    }
   ],
   "source": [
    "server2.upload_file('experiments/syn/ethdev0.io','ethdev0.io')\n",
    "server2.upload_file('experiments/syn/ethdev1.io','ethdev1.io')\n",
    "server2.upload_file('experiments/syn/ethdev2.io','ethdev2.io')\n",
    "server2.upload_file('experiments/syn/ethdev3.io','ethdev3.io')\n",
    "server2.upload_file('experiments/syn/syn.cli','syn.cli')\n",
    "\n",
    "server2.upload_file('experiments/syn/rules.txt','rules.txt')\n",
    "server2.upload_file('experiments/syn/reset_SYN_packets_per_second.py','reset_SYN_packets_per_second.py')"
   ]
  },
  {
   "cell_type": "code",
   "execution_count": 15,
   "id": "c581f063-ff9c-40b8-96e3-124cfff2f66e",
   "metadata": {},
   "outputs": [
    {
     "data": {
      "text/plain": [
       "'ssh -i /home/fabric/work/fabric_config/slice_key -F /home/fabric/work/fabric_config/ssh_config ubuntu@2001:400:a100:3080:f816:3eff:fe30:337f'"
      ]
     },
     "execution_count": 15,
     "metadata": {},
     "output_type": "execute_result"
    }
   ],
   "source": [
    "server2.get_ssh_command()"
   ]
  },
  {
   "cell_type": "markdown",
   "id": "9de6cc93-4ece-4090-b329-f290822964e3",
   "metadata": {},
   "source": [
    "    cd dpdk\n",
    "    sudo examples/pipeline/build/pipeline -c 0x1F -- -s /home/ubuntu/syn.cli\n",
    "\n",
    "in a new terminal:\n",
    "    \n",
    "    sudo python3 reset_SYN_packets_per_second.py"
   ]
  },
  {
   "cell_type": "code",
   "execution_count": 9,
   "id": "3f20210f-21cc-49df-83b0-0cd41c4d6a03",
   "metadata": {},
   "outputs": [
    {
     "data": {
      "text/plain": [
       "'ssh -i /home/fabric/work/fabric_config/slice_key -F /home/fabric/work/fabric_config/ssh_config ubuntu@2001:400:a100:3080:f816:3eff:fe4f:3067'"
      ]
     },
     "execution_count": 9,
     "metadata": {},
     "output_type": "execute_result"
    }
   ],
   "source": [
    "server1.get_ssh_command()"
   ]
  },
  {
   "cell_type": "code",
   "execution_count": 10,
   "id": "6c97c860-d64e-4b72-9222-f8f3a062c59b",
   "metadata": {},
   "outputs": [
    {
     "name": "stdout",
     "output_type": "stream",
     "text": [
      "07:00.0\n"
     ]
    }
   ],
   "source": [
    "stdout, stderr = server1.execute('lspci | grep ConnectX | awk \\'{print $1}\\'| head -n 1')"
   ]
  },
  {
   "cell_type": "markdown",
   "id": "b27ee57e-c1e3-44a3-b38e-b1ad5a3f8866",
   "metadata": {},
   "source": [
    "    sudo pktgen -l 0,1 -n 4 -a 07:00.0 -- -P -m \"1.0\"\n",
    "\n",
    "    page range\n",
    "    \n",
    "    range 0 src mac start 00:00:00:00:00:01\n",
    "    range 0 src mac min 00:00:00:00:00:01\n",
    "    range 0 src mac max 00:00:00:00:00:01\n",
    "    \n",
    "    range 0 dst mac start 00:00:00:00:00:21\n",
    "    range 0 dst mac min 00:00:00:00:00:21\n",
    "    range 0 dst mac max 00:00:00:00:00:21\n",
    "    \n",
    "    range 0 src ip start 1.1.1.1\n",
    "    range 0 src ip min 1.1.1.1\n",
    "    range 0 src ip max 250.250.250.250\n",
    "    range 0 src ip inc 0.0.0.1\n",
    "    \n",
    "    range 0 dst ip start 192.168.20.1\n",
    "    range 0 dst ip min 192.168.20.1\n",
    "    range 0 dst ip max 192.168.20.1\n",
    "    \n",
    "    range 0 size start 1500\n",
    "    range 0 size min 1500\n",
    "    range 0 size max 1500\n",
    "    \n",
    "    range 0 tcp flag clr all\n",
    "    range 0 tcp flag set syn\n",
    "    \n",
    "    enable 0 range\n",
    "    page main"
   ]
  },
  {
   "cell_type": "code",
   "execution_count": 11,
   "id": "d75d61ab-cc27-494c-aa46-e98656e016c2",
   "metadata": {},
   "outputs": [
    {
     "data": {
      "text/plain": [
       "'ssh -i /home/fabric/work/fabric_config/slice_key -F /home/fabric/work/fabric_config/ssh_config ubuntu@2001:400:a100:3080:f816:3eff:fef9:8841'"
      ]
     },
     "execution_count": 11,
     "metadata": {},
     "output_type": "execute_result"
    }
   ],
   "source": [
    "server3.get_ssh_command()"
   ]
  },
  {
   "cell_type": "code",
   "execution_count": 12,
   "id": "aa825297-05ae-4053-a360-61919a4734de",
   "metadata": {},
   "outputs": [
    {
     "name": "stdout",
     "output_type": "stream",
     "text": [
      "07:00.0\n"
     ]
    }
   ],
   "source": [
    "stdout, stderr = server3.execute('lspci | grep ConnectX | awk \\'{print $1}\\'| head -n 1')"
   ]
  },
  {
   "cell_type": "markdown",
   "id": "74415340-c0f0-4e07-a2c3-18698922c998",
   "metadata": {},
   "source": [
    "    sudo pktgen -l 0,1 -n 4 -a 07:00.0 -- -P -m \"1.0\""
   ]
  },
  {
   "cell_type": "code",
   "execution_count": 16,
   "id": "ff9ce1cc-e08d-4dd2-89d3-e73971368f0e",
   "metadata": {},
   "outputs": [
    {
     "data": {
      "text/plain": [
       "'ssh -i /home/fabric/work/fabric_config/slice_key -F /home/fabric/work/fabric_config/ssh_config ubuntu@2001:400:a100:3080:f816:3eff:fe30:337f'"
      ]
     },
     "execution_count": 16,
     "metadata": {},
     "output_type": "execute_result"
    }
   ],
   "source": [
    "server2.get_ssh_command()"
   ]
  },
  {
   "cell_type": "markdown",
   "id": "261fe3e7-2173-4afd-9595-5d958a153f31",
   "metadata": {},
   "source": [
    "    telnet 0.0.0.0 8086\n",
    "\n",
    "    pipeline PIPELINE0 regwr drop_percent_reg_0 value 50 index 0\n",
    "    pipeline PIPELINE1 regwr drop_percent_reg_0 value 50 index 0\n",
    "    pipeline PIPELINE2 regwr drop_percent_reg_0 value 50 index 0\n",
    "    pipeline PIPELINE3 regwr drop_percent_reg_0 value 50 index 0\n",
    "    \n",
    "    pipeline PIPELINE0 regwr drop_percent_reg_0 value 100 index 0\n",
    "    pipeline PIPELINE1 regwr drop_percent_reg_0 value 100 index 0\n",
    "    pipeline PIPELINE2 regwr drop_percent_reg_0 value 100 index 0\n",
    "    pipeline PIPELINE3 regwr drop_percent_reg_0 value 100 index 0"
   ]
  },
  {
   "cell_type": "markdown",
   "id": "bf59691a-339d-4f98-8b43-5df76ea217db",
   "metadata": {},
   "source": [
    "## Interarrival Time"
   ]
  },
  {
   "cell_type": "code",
   "execution_count": 6,
   "id": "8d0597b1-b634-4e0a-a9c4-1c88fecec0db",
   "metadata": {},
   "outputs": [],
   "source": [
    "# stdout, stderr = server2.execute(f'cd dpdk/lib/pipeline/ &&  sudo rm rte_swx_pipeline.c && sudo rm rte_swx_pipeline_internal.h', quiet = True)\n",
    "# server2.upload_file('scripts/rte_swx_pipeline.c','/home/ubuntu/dpdk/lib/pipeline/rte_swx_pipeline.c')\n",
    "# server2.upload_file('scripts/rte_swx_pipeline_internal.h','/home/ubuntu/dpdk/lib/pipeline/rte_swx_pipeline_internal.h')\n",
    "# stdout, stderr = server2.execute(f'cd dpdk && cd build && sudo ninja && sudo ninja install && sudo ldconfig', quiet = True)"
   ]
  },
  {
   "cell_type": "code",
   "execution_count": 43,
   "id": "bc157def-d11f-4e1b-8937-ae6dc6f01337",
   "metadata": {},
   "outputs": [
    {
     "name": "stdout",
     "output_type": "stream",
     "text": [
      "\u001b[31m sudo: unable to resolve host server1: Name or service not known\n",
      " \u001b[0m"
     ]
    }
   ],
   "source": [
    "server1.upload_file('experiments/iat/test_iat.p4','test_iat.p4')\n",
    "stdout, stderr = server1.execute(f'sudo p4c-dpdk --arch=pna test_iat.p4 -o test_iat.spec')"
   ]
  },
  {
   "cell_type": "code",
   "execution_count": 12,
   "id": "1262a289-0456-408f-be64-8731fbc55bbc",
   "metadata": {},
   "outputs": [
    {
     "data": {
      "text/plain": [
       "<SFTPAttributes: [ size=112 uid=1000 gid=1000 mode=0o100664 atime=1725381418 mtime=1729788055 ]>"
      ]
     },
     "execution_count": 12,
     "metadata": {},
     "output_type": "execute_result"
    }
   ],
   "source": [
    "server1.upload_file('experiments/iat/ethdev0.io','ethdev0.io')\n",
    "# server2.upload_file('experiments/iat/ethdev1.io','ethdev1.io')\n",
    "# server2.upload_file('experiments/iat/ethdev2.io','ethdev2.io')\n",
    "# server2.upload_file('experiments/iat/ethdev3.io','ethdev3.io')\n",
    "server1.upload_file('experiments/iat/iat.cli','iat.cli')\n",
    "\n",
    "server1.upload_file('experiments/iat/rules.txt','rules.txt')"
   ]
  },
  {
   "cell_type": "code",
   "execution_count": 44,
   "id": "b77fc44b-e29c-454b-a96d-71e51aa1f7fc",
   "metadata": {},
   "outputs": [
    {
     "data": {
      "text/plain": [
       "<SFTPAttributes: [ size=3134 uid=1000 gid=1000 mode=0o100664 atime=1729790332 mtime=1729802412 ]>"
      ]
     },
     "execution_count": 44,
     "metadata": {},
     "output_type": "execute_result"
    }
   ],
   "source": [
    "server1.upload_file('experiments/iat/get_iat.py','get_iat.py')"
   ]
  },
  {
   "cell_type": "code",
   "execution_count": 31,
   "id": "b865f305-84db-4d8f-8128-b76cd5e6d23c",
   "metadata": {},
   "outputs": [
    {
     "data": {
      "text/plain": [
       "<SFTPAttributes: [ size=4042 uid=1000 gid=1000 mode=0o100664 atime=1729794599 mtime=1729794599 ]>"
      ]
     },
     "execution_count": 31,
     "metadata": {},
     "output_type": "execute_result"
    }
   ],
   "source": [
    "server1.upload_file('experiments/iat/recv.py','recv.py')\n",
    "server1.upload_file('experiments/iat/send.py','send.py')"
   ]
  },
  {
   "cell_type": "markdown",
   "id": "cfb3f97e-3376-4c65-8b50-b85e7fe018b4",
   "metadata": {},
   "source": [
    "    cd dpdk\n",
    "    sudo examples/pipeline/build/pipeline -c 0x1F -- -s /home/ubuntu/iat.cli\n",
    "    sudo python3 get_iat.py "
   ]
  },
  {
   "cell_type": "code",
   "execution_count": 45,
   "id": "49dd0adb-8c81-41ad-b965-5681f0b57f83",
   "metadata": {},
   "outputs": [
    {
     "name": "stdout",
     "output_type": "stream",
     "text": [
      "\u001b[31m sudo: unable to resolve host server1: Name or service not known\n",
      " \u001b[0m"
     ]
    }
   ],
   "source": [
    "stdout, stderr = server1.execute(f'sudo ./set_topology.sh')"
   ]
  },
  {
   "cell_type": "code",
   "execution_count": 24,
   "id": "76680132-259e-4306-81f1-b5380b057f9c",
   "metadata": {},
   "outputs": [
    {
     "name": "stdout",
     "output_type": "stream",
     "text": [
      "\u001b[31m sudo: unable to resolve host server1: Name or service not known\n",
      "ping: connect: Network is unreachable\n",
      " \u001b[0m"
     ]
    }
   ],
   "source": [
    "stdout, stderr = server1.execute(f'sudo ip netns exec h1 ping 192.168.10.2 -c 4')"
   ]
  },
  {
   "cell_type": "code",
   "execution_count": 9,
   "id": "e991af4f-ad81-409d-9d78-d8d564a5253b",
   "metadata": {},
   "outputs": [
    {
     "data": {
      "text/plain": [
       "'ssh -i /home/fabric/work/fabric_config/slice_key -F /home/fabric/work/fabric_config/ssh_config ubuntu@2001:400:a100:3080:f816:3eff:fe4f:3067'"
      ]
     },
     "execution_count": 9,
     "metadata": {},
     "output_type": "execute_result"
    }
   ],
   "source": [
    "server1.get_ssh_command()"
   ]
  },
  {
   "cell_type": "code",
   "execution_count": 10,
   "id": "59f8385c-d6e7-48c9-91dd-170d74166b66",
   "metadata": {},
   "outputs": [
    {
     "name": "stdout",
     "output_type": "stream",
     "text": [
      "07:00.0\n"
     ]
    }
   ],
   "source": [
    "stdout, stderr = server1.execute('lspci | grep ConnectX | awk \\'{print $1}\\'| head -n 1')"
   ]
  },
  {
   "cell_type": "markdown",
   "id": "9b0e2550-83d8-4213-8cd6-a0d19f425b1a",
   "metadata": {},
   "source": [
    "    sudo pktgen -l 0,1 -n 4 -a 07:00.0 -- -P -m \"1.0\"\n",
    "\n",
    "    set 0 src mac 00:00:00:00:00:03\n",
    "    set 0 dst mac 00:00:00:00:00:22\n",
    "    set 0 src ip 192.168.20.1/24\n",
    "    set 0 dst ip 192.168.10.1\n",
    "    set 0 size 1500    \n",
    "    set 0 rate 0.001\n",
    "    "
   ]
  },
  {
   "cell_type": "markdown",
   "id": "ebc7021e-7e84-4e54-aff0-97dad621e078",
   "metadata": {},
   "source": [
    "    sudo hping3 --flood 192.168.10.1\n",
    "    sudo ping 192.168.20.2 -i 1"
   ]
  },
  {
   "cell_type": "markdown",
   "id": "367aa414-8330-4435-af87-1e2a66cc0e0d",
   "metadata": {
    "jp-MarkdownHeadingCollapsed": true
   },
   "source": [
    "## Heavy Hitter and SYN Flood"
   ]
  },
  {
   "cell_type": "code",
   "execution_count": 12,
   "id": "700eb390-3f2e-4d26-a03e-436bf91a87c4",
   "metadata": {},
   "outputs": [
    {
     "name": "stdout",
     "output_type": "stream",
     "text": [
      "\u001b[31m sudo: unable to resolve host server2: Name or service not known\n",
      " \u001b[0m"
     ]
    }
   ],
   "source": [
    "server2.upload_file('experiments/hh_syn/hh_syn.p4','hh_syn.p4')\n",
    "stdout, stderr = server2.execute(f'sudo p4c-dpdk --arch=pna hh_syn.p4 -o hh_syn.spec')"
   ]
  },
  {
   "cell_type": "code",
   "execution_count": 13,
   "id": "59b36c45-4a06-487a-b1b9-9157a81478a1",
   "metadata": {},
   "outputs": [
    {
     "data": {
      "text/plain": [
       "<SFTPAttributes: [ size=112 uid=1000 gid=1000 mode=0o100664 atime=1729615818 mtime=1729615980 ]>"
      ]
     },
     "execution_count": 13,
     "metadata": {},
     "output_type": "execute_result"
    }
   ],
   "source": [
    "server2.upload_file('experiments/hh_syn/ethdev0.io','ethdev0.io')\n",
    "server2.upload_file('experiments/hh_syn/ethdev1.io','ethdev1.io')\n",
    "server2.upload_file('experiments/hh_syn/ethdev2.io','ethdev2.io')\n",
    "server2.upload_file('experiments/hh_syn/ethdev3.io','ethdev3.io')\n",
    "server2.upload_file('experiments/hh_syn/hh_syn.cli','hh_syn.cli')\n",
    "\n",
    "server2.upload_file('experiments/hh_syn/rules.txt','rules.txt')"
   ]
  },
  {
   "cell_type": "markdown",
   "id": "13a332bb-5377-4c81-8f3d-246fd4d8e652",
   "metadata": {},
   "source": [
    "    cd dpdk\n",
    "    sudo examples/pipeline/build/pipeline -c 0x1F -- -s /home/ubuntu/hh_syn.cli"
   ]
  },
  {
   "cell_type": "code",
   "execution_count": 9,
   "id": "ab3b1445-9a8a-484d-9641-9b150cdb3aa7",
   "metadata": {},
   "outputs": [
    {
     "data": {
      "text/plain": [
       "'ssh -i /home/fabric/work/fabric_config/slice_key -F /home/fabric/work/fabric_config/ssh_config ubuntu@2001:400:a100:3080:f816:3eff:fe4f:3067'"
      ]
     },
     "execution_count": 9,
     "metadata": {},
     "output_type": "execute_result"
    }
   ],
   "source": [
    "server1.get_ssh_command()"
   ]
  },
  {
   "cell_type": "code",
   "execution_count": 10,
   "id": "beca664a-7d6f-4ca7-81be-07ea85b6c961",
   "metadata": {},
   "outputs": [
    {
     "name": "stdout",
     "output_type": "stream",
     "text": [
      "07:00.0\n"
     ]
    }
   ],
   "source": [
    "stdout, stderr = server1.execute('lspci | grep ConnectX | awk \\'{print $1}\\'| head -n 1')"
   ]
  },
  {
   "cell_type": "markdown",
   "id": "d7c39631-733a-45bb-a441-8a2dd5ba024c",
   "metadata": {},
   "source": [
    "    sudo pktgen -l 0,1 -n 4 -a 07:00.0 -- -P -m \"1.0\"\n",
    "\n",
    "    page range\n",
    "\n",
    "    range 0 src mac start 00:00:00:00:00:01\n",
    "    range 0 src mac min 00:00:00:00:00:01\n",
    "    range 0 src mac max 00:00:00:00:00:01\n",
    "    \n",
    "    range 0 dst mac start 00:00:00:00:00:21\n",
    "    range 0 dst mac min 00:00:00:00:00:21\n",
    "    range 0 dst mac max 00:00:00:00:00:21\n",
    "    \n",
    "    range 0 src ip start 1.1.1.1\n",
    "    range 0 src ip min 1.1.1.1\n",
    "    range 0 src ip max 250.250.250.250\n",
    "    range 0 src ip inc 0.0.0.1\n",
    "    \n",
    "    range 0 dst ip start 192.168.20.1\n",
    "    range 0 dst ip min 192.168.20.1\n",
    "    range 0 dst ip max 192.168.20.1\n",
    "    \n",
    "    range 0 size start 1500\n",
    "    range 0 size min 1500\n",
    "    range 0 size max 1500\n",
    "\n",
    "    range 0 tcp flag clr all\n",
    "    range 0 tcp flag set syn\n",
    "    \n",
    "    enable 0 range\n",
    "    page main\n",
    "    "
   ]
  },
  {
   "cell_type": "code",
   "execution_count": 11,
   "id": "d13ec65e-b699-477c-ab92-a0301fba135b",
   "metadata": {},
   "outputs": [
    {
     "data": {
      "text/plain": [
       "'ssh -i /home/fabric/work/fabric_config/slice_key -F /home/fabric/work/fabric_config/ssh_config ubuntu@2001:400:a100:3080:f816:3eff:fef9:8841'"
      ]
     },
     "execution_count": 11,
     "metadata": {},
     "output_type": "execute_result"
    }
   ],
   "source": [
    "server3.get_ssh_command()"
   ]
  },
  {
   "cell_type": "code",
   "execution_count": 12,
   "id": "ab236abf-5853-4481-98fd-8d3adf0565bb",
   "metadata": {},
   "outputs": [
    {
     "name": "stdout",
     "output_type": "stream",
     "text": [
      "07:00.0\n"
     ]
    }
   ],
   "source": [
    "stdout, stderr = server3.execute('lspci | grep ConnectX | awk \\'{print $1}\\'| head -n 1')"
   ]
  },
  {
   "cell_type": "markdown",
   "id": "25bdc685-5ffa-4cba-89e9-f9776ff3c783",
   "metadata": {},
   "source": [
    "    sudo pktgen -l 0,1 -n 4 -a 07:00.0 -- -P -m \"1.0\"\n",
    "\n",
    "    set 0 src mac 00:00:00:00:00:03\n",
    "    set 0 dst mac 00:00:00:00:00:22\n",
    "    set 0 src ip 192.168.20.1/24\n",
    "    set 0 dst ip 192.168.10.1\n",
    "    set 0 size 1500\n",
    "    set 0 rate 0.5"
   ]
  },
  {
   "cell_type": "markdown",
   "id": "49e6dd26-c20c-4c25-96c2-1b2f1aaaeca9",
   "metadata": {
    "tags": []
   },
   "source": [
    "# Step 10: Delete the slice\n",
    "\n",
    "This concludes Lab 9. Please delete your slice when you are done with your experiment."
   ]
  },
  {
   "cell_type": "code",
   "execution_count": 1,
   "id": "1f27f3fc-004f-46c2-984c-8c2a90883eb6",
   "metadata": {
    "tags": []
   },
   "outputs": [],
   "source": [
    "from fabrictestbed_extensions.fablib.fablib import FablibManager as fablib_manager\n",
    "fablib = fablib_manager()\n",
    "slice = fablib.get_slice(name=\"P4DPDK_HH4\")\n",
    "# slice.delete()"
   ]
  }
 ],
 "metadata": {
  "kernelspec": {
   "display_name": "Python 3 (ipykernel)",
   "language": "python",
   "name": "python3"
  },
  "language_info": {
   "codemirror_mode": {
    "name": "ipython",
    "version": 3
   },
   "file_extension": ".py",
   "mimetype": "text/x-python",
   "name": "python",
   "nbconvert_exporter": "python",
   "pygments_lexer": "ipython3",
   "version": "3.11.8"
  }
 },
 "nbformat": 4,
 "nbformat_minor": 5
}
